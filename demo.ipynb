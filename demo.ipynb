{
 "cells": [
  {
   "cell_type": "markdown",
   "metadata": {},
   "source": [
    "# Python interface to the SuiteSparse Matrix Collection\n",
    "\n",
    "This notebook walks you through some of the features of the `ssgetpy` package that provides a search and download interface for the [Suite Sparse](https://suitesparse.com) matrix collection. \n",
    "\n",
    "The simplest way to install `ssgetpy` is via:\n",
    "```\n",
    "pip install ssgetpy`\n",
    "```\n",
    "\n",
    "This installs both the `ssgetpy` Python module as well as the `ssgetpy` command-line script. `ssgetpy` currently has two dependencies besides the Python standard library: `requests` for downloading artifacts and metadata and `tqdm` for displaying progress bars.\n",
    "\n",
    "\n",
    "This notebook only covers the library version of `ssgetpy`. To get more information on the command-line script run:\n",
    "```\n",
    "$ ssgetpy --help\n",
    "```\n",
    "\n",
    "\n",
    "First import `ssgetpy` via:"
   ]
  },
  {
   "cell_type": "code",
   "execution_count": 7,
   "metadata": {},
   "outputs": [],
   "source": [
    "import ssget"
   ]
  },
  {
   "cell_type": "markdown",
   "metadata": {},
   "source": [
    "## Basic query interface\n",
    "\n",
    "The primary interface to `ssgetpy` is via `ssgetpy.search`.  Running `search` without any arguments returns the first 10 matrices in the collection:"
   ]
  },
  {
   "cell_type": "code",
   "execution_count": 8,
   "metadata": {
    "scrolled": true
   },
   "outputs": [
    {
     "data": {
      "text/html": [
       "<table><thead><th>Id</th><th>Group</th><th>Name</th><th>Rows</th><th>Cols</th><th>NNZ</th><th>DType</th><th>2D/3D Discretization?</th><th>SPD?</th><th>Pattern Symmetry</th><th>Numerical Symmetry</th><th>Kind</th><th>Icon</th></thead><tbody><tr><td>1</td><td>HB</td><td>1138_bus</td><td>1138</td><td>1138</td><td>4054</td><td>real</td><td>No</td><td>Yes</td><td>1.0</td><td>1.0</td><td>power network problem</td><td><img src=\"https://sparse.tamu.edu/files/HB/1138_bus.png\"></td></tr><tr><td>2</td><td>HB</td><td>494_bus</td><td>494</td><td>494</td><td>1666</td><td>real</td><td>No</td><td>Yes</td><td>1.0</td><td>1.0</td><td>power network problem</td><td><img src=\"https://sparse.tamu.edu/files/HB/494_bus.png\"></td></tr><tr><td>3</td><td>HB</td><td>662_bus</td><td>662</td><td>662</td><td>2474</td><td>real</td><td>No</td><td>Yes</td><td>1.0</td><td>1.0</td><td>power network problem</td><td><img src=\"https://sparse.tamu.edu/files/HB/662_bus.png\"></td></tr><tr><td>4</td><td>HB</td><td>685_bus</td><td>685</td><td>685</td><td>3249</td><td>real</td><td>No</td><td>Yes</td><td>1.0</td><td>1.0</td><td>power network problem</td><td><img src=\"https://sparse.tamu.edu/files/HB/685_bus.png\"></td></tr><tr><td>5</td><td>HB</td><td>abb313</td><td>313</td><td>176</td><td>1557</td><td>binary</td><td>No</td><td>No</td><td>0.0</td><td>0.0</td><td>least squares problem</td><td><img src=\"https://sparse.tamu.edu/files/HB/abb313.png\"></td></tr><tr><td>6</td><td>HB</td><td>arc130</td><td>130</td><td>130</td><td>1037</td><td>real</td><td>Yes</td><td>No</td><td>0.76</td><td>0.0</td><td>materials problem</td><td><img src=\"https://sparse.tamu.edu/files/HB/arc130.png\"></td></tr><tr><td>7</td><td>HB</td><td>ash219</td><td>219</td><td>85</td><td>438</td><td>binary</td><td>No</td><td>No</td><td>0.0</td><td>0.0</td><td>least squares problem</td><td><img src=\"https://sparse.tamu.edu/files/HB/ash219.png\"></td></tr><tr><td>8</td><td>HB</td><td>ash292</td><td>292</td><td>292</td><td>2208</td><td>binary</td><td>No</td><td>No</td><td>1.0</td><td>1.0</td><td>least squares problem</td><td><img src=\"https://sparse.tamu.edu/files/HB/ash292.png\"></td></tr><tr><td>9</td><td>HB</td><td>ash331</td><td>331</td><td>104</td><td>662</td><td>binary</td><td>No</td><td>No</td><td>0.0</td><td>0.0</td><td>least squares problem</td><td><img src=\"https://sparse.tamu.edu/files/HB/ash331.png\"></td></tr><tr><td>10</td><td>HB</td><td>ash608</td><td>608</td><td>188</td><td>1216</td><td>binary</td><td>No</td><td>No</td><td>0.0</td><td>0.0</td><td>least squares problem</td><td><img src=\"https://sparse.tamu.edu/files/HB/ash608.png\"></td></tr></tbody></table>"
      ],
      "text/plain": [
       "[Matrix(1, 'HB', '1138_bus', 1138, 1138, 4054, 'real', False, True, 1.0, 1.0, 'power network problem', 'https://sparse.tamu.edu/files/HB/1138_bus.png'),\n",
       " Matrix(2, 'HB', '494_bus', 494, 494, 1666, 'real', False, True, 1.0, 1.0, 'power network problem', 'https://sparse.tamu.edu/files/HB/494_bus.png'),\n",
       " Matrix(3, 'HB', '662_bus', 662, 662, 2474, 'real', False, True, 1.0, 1.0, 'power network problem', 'https://sparse.tamu.edu/files/HB/662_bus.png'),\n",
       " Matrix(4, 'HB', '685_bus', 685, 685, 3249, 'real', False, True, 1.0, 1.0, 'power network problem', 'https://sparse.tamu.edu/files/HB/685_bus.png'),\n",
       " Matrix(5, 'HB', 'abb313', 313, 176, 1557, 'binary', False, False, 0.0, 0.0, 'least squares problem', 'https://sparse.tamu.edu/files/HB/abb313.png'),\n",
       " Matrix(6, 'HB', 'arc130', 130, 130, 1037, 'real', True, False, 0.7586805555555556, 0.0, 'materials problem', 'https://sparse.tamu.edu/files/HB/arc130.png'),\n",
       " Matrix(7, 'HB', 'ash219', 219, 85, 438, 'binary', False, False, 0.0, 0.0, 'least squares problem', 'https://sparse.tamu.edu/files/HB/ash219.png'),\n",
       " Matrix(8, 'HB', 'ash292', 292, 292, 2208, 'binary', False, False, 1.0, 1.0, 'least squares problem', 'https://sparse.tamu.edu/files/HB/ash292.png'),\n",
       " Matrix(9, 'HB', 'ash331', 331, 104, 662, 'binary', False, False, 0.0, 0.0, 'least squares problem', 'https://sparse.tamu.edu/files/HB/ash331.png'),\n",
       " Matrix(10, 'HB', 'ash608', 608, 188, 1216, 'binary', False, False, 0.0, 0.0, 'least squares problem', 'https://sparse.tamu.edu/files/HB/ash608.png')]"
      ]
     },
     "execution_count": 8,
     "metadata": {},
     "output_type": "execute_result"
    }
   ],
   "source": [
    "ssget.search()"
   ]
  },
  {
   "cell_type": "markdown",
   "metadata": {},
   "source": [
    "Notice that search result comes with minimal Jupyter integration that shows some metadata along with the distribution of the non-zero values. \n",
    "\n",
    "### Query filters\n",
    "\n",
    "You can add more filters via keyword arguments as follows:\n",
    "\n",
    "|Argument | Description | Type | Default | Notes |\n",
    "|---------|-------------|------|---------|-------| \n",
    "|`rowbounds` | Number of rows | `tuple`: `(min_value, max_value)` | `(None, None)`| `min_value` or `max_value` can be `None` which implies \"don't care\" |\n",
    "|`colbounds` | Number of columns | `tuple`: `(min_value, max_value)` | `(None, None)` | |\n",
    "|`nzbounds`  | Number of non-zeros | `tuple`: `(min_value, max_value)` | `(None, None)`| |\n",
    "|`isspd`     | SPD? | `bool` or `None` | `None` | `None` implies \"don't care\" |\n",
    "|`is2d3d` | 2D/3D Discretization? | `bool` or `None` | `None` | |\n",
    "| `dtype` | Non-zero data type | `real`, `complex`, `binary` or `None` | `None` | |\n",
    "| `group` | Matrix group | `str` or `None` | `None` | Supports partial matches; `None` implies \"don't care\" |\n",
    "| `kind` | Problem domain | `str` or `None` | `None` | Supports partial matches; `None` implies \"don't care\" |\n",
    "| `limit` | Max number of results | `int` | 10 | |\n",
    "\n",
    "> Note that numerical and pattern symmetry filters are not yet supported.\n",
    "\n",
    "As an example of using the above filters, here is a query that returns five, non-SPD matrices with $1000\\leq \\text{NNZ} \\leq 10000$:"
   ]
  },
  {
   "cell_type": "code",
   "execution_count": 14,
   "metadata": {},
   "outputs": [
    {
     "data": {
      "text/html": [
       "<table><thead><th>Id</th><th>Group</th><th>Name</th><th>Rows</th><th>Cols</th><th>NNZ</th><th>DType</th><th>2D/3D Discretization?</th><th>SPD?</th><th>Pattern Symmetry</th><th>Numerical Symmetry</th><th>Kind</th><th>Icon</th></thead><tbody><tr><td>5</td><td>HB</td><td>abb313</td><td>313</td><td>176</td><td>1557</td><td>binary</td><td>No</td><td>No</td><td>0.0</td><td>0.0</td><td>least squares problem</td><td><img src=\"https://sparse.tamu.edu/files/HB/abb313.png\"></td></tr><tr><td>6</td><td>HB</td><td>arc130</td><td>130</td><td>130</td><td>1037</td><td>real</td><td>Yes</td><td>No</td><td>0.76</td><td>0.0</td><td>materials problem</td><td><img src=\"https://sparse.tamu.edu/files/HB/arc130.png\"></td></tr><tr><td>8</td><td>HB</td><td>ash292</td><td>292</td><td>292</td><td>2208</td><td>binary</td><td>No</td><td>No</td><td>1.0</td><td>1.0</td><td>least squares problem</td><td><img src=\"https://sparse.tamu.edu/files/HB/ash292.png\"></td></tr><tr><td>10</td><td>HB</td><td>ash608</td><td>608</td><td>188</td><td>1216</td><td>binary</td><td>No</td><td>No</td><td>0.0</td><td>0.0</td><td>least squares problem</td><td><img src=\"https://sparse.tamu.edu/files/HB/ash608.png\"></td></tr><tr><td>12</td><td>HB</td><td>ash958</td><td>958</td><td>292</td><td>1916</td><td>binary</td><td>No</td><td>No</td><td>0.0</td><td>0.0</td><td>least squares problem</td><td><img src=\"https://sparse.tamu.edu/files/HB/ash958.png\"></td></tr></tbody></table>"
      ],
      "text/plain": [
       "[Matrix(5, 'HB', 'abb313', 313, 176, 1557, 'binary', False, False, 0.0, 0.0, 'least squares problem', 'https://sparse.tamu.edu/files/HB/abb313.png'),\n",
       " Matrix(6, 'HB', 'arc130', 130, 130, 1037, 'real', True, False, 0.7586805555555556, 0.0, 'materials problem', 'https://sparse.tamu.edu/files/HB/arc130.png'),\n",
       " Matrix(8, 'HB', 'ash292', 292, 292, 2208, 'binary', False, False, 1.0, 1.0, 'least squares problem', 'https://sparse.tamu.edu/files/HB/ash292.png'),\n",
       " Matrix(10, 'HB', 'ash608', 608, 188, 1216, 'binary', False, False, 0.0, 0.0, 'least squares problem', 'https://sparse.tamu.edu/files/HB/ash608.png'),\n",
       " Matrix(12, 'HB', 'ash958', 958, 292, 1916, 'binary', False, False, 0.0, 0.0, 'least squares problem', 'https://sparse.tamu.edu/files/HB/ash958.png')]"
      ]
     },
     "execution_count": 14,
     "metadata": {},
     "output_type": "execute_result"
    }
   ],
   "source": [
    "ssget.search(nzbounds=(1000,10000), isspd=False, limit=5)"
   ]
  },
  {
   "cell_type": "markdown",
   "metadata": {},
   "source": [
    "## Working with search results\n",
    "The result of a search query is a collection of `Matrix` objects. The collection can be sliced using the same syntax as for vanilla Python `list`s as shown below:"
   ]
  },
  {
   "cell_type": "code",
   "execution_count": 26,
   "metadata": {},
   "outputs": [
    {
     "data": {
      "text/html": [
       "<table><thead><th>Id</th><th>Group</th><th>Name</th><th>Rows</th><th>Cols</th><th>NNZ</th><th>DType</th><th>2D/3D Discretization?</th><th>SPD?</th><th>Pattern Symmetry</th><th>Numerical Symmetry</th><th>Kind</th><th>Icon</th></thead><tbody><tr><td>24</td><td>HB</td><td>bcsstk02</td><td>66</td><td>66</td><td>4356</td><td>real</td><td>Yes</td><td>Yes</td><td>1.0</td><td>1.0</td><td>structural problem</td><td><img src=\"https://sparse.tamu.edu/files/HB/bcsstk02.png\"></td></tr><tr><td>26</td><td>HB</td><td>bcsstk04</td><td>132</td><td>132</td><td>3648</td><td>real</td><td>Yes</td><td>Yes</td><td>1.0</td><td>1.0</td><td>structural problem</td><td><img src=\"https://sparse.tamu.edu/files/HB/bcsstk04.png\"></td></tr><tr><td>27</td><td>HB</td><td>bcsstk05</td><td>153</td><td>153</td><td>2423</td><td>real</td><td>Yes</td><td>Yes</td><td>1.0</td><td>1.0</td><td>structural problem</td><td><img src=\"https://sparse.tamu.edu/files/HB/bcsstk05.png\"></td></tr><tr><td>28</td><td>HB</td><td>bcsstk06</td><td>420</td><td>420</td><td>7860</td><td>real</td><td>Yes</td><td>Yes</td><td>1.0</td><td>1.0</td><td>structural problem</td><td><img src=\"https://sparse.tamu.edu/files/HB/bcsstk06.png\"></td></tr></tbody></table>"
      ],
      "text/plain": [
       "[Matrix(24, 'HB', 'bcsstk02', 66, 66, 4356, 'real', True, True, 1.0, 1.0, 'structural problem', 'https://sparse.tamu.edu/files/HB/bcsstk02.png'),\n",
       " Matrix(26, 'HB', 'bcsstk04', 132, 132, 3648, 'real', True, True, 1.0, 1.0, 'structural problem', 'https://sparse.tamu.edu/files/HB/bcsstk04.png'),\n",
       " Matrix(27, 'HB', 'bcsstk05', 153, 153, 2423, 'real', True, True, 1.0, 1.0, 'structural problem', 'https://sparse.tamu.edu/files/HB/bcsstk05.png'),\n",
       " Matrix(28, 'HB', 'bcsstk06', 420, 420, 7860, 'real', True, True, 1.0, 1.0, 'structural problem', 'https://sparse.tamu.edu/files/HB/bcsstk06.png')]"
      ]
     },
     "execution_count": 26,
     "metadata": {},
     "output_type": "execute_result"
    }
   ],
   "source": [
    "result = ssget.search(kind='structural', nzbounds=(1000,10000))\n",
    "result[:4]"
   ]
  },
  {
   "cell_type": "markdown",
   "metadata": {},
   "source": [
    "An individual element in the collection can be used as follows:"
   ]
  },
  {
   "cell_type": "code",
   "execution_count": 28,
   "metadata": {},
   "outputs": [
    {
     "data": {
      "text/html": [
       "<table><thead><th>Id</th><th>Group</th><th>Name</th><th>Rows</th><th>Cols</th><th>NNZ</th><th>DType</th><th>2D/3D Discretization?</th><th>SPD?</th><th>Pattern Symmetry</th><th>Numerical Symmetry</th><th>Kind</th><th>Icon</th></thead><tbody><tr><td>24</td><td>HB</td><td>bcsstk02</td><td>66</td><td>66</td><td>4356</td><td>real</td><td>Yes</td><td>Yes</td><td>1.0</td><td>1.0</td><td>structural problem</td><td><img src=\"https://sparse.tamu.edu/files/HB/bcsstk02.png\"></td></tr></tbody></table>"
      ],
      "text/plain": [
       "Matrix(24, 'HB', 'bcsstk02', 66, 66, 4356, 'real', True, True, 1.0, 1.0, 'structural problem', 'https://sparse.tamu.edu/files/HB/bcsstk02.png')"
      ]
     },
     "execution_count": 28,
     "metadata": {},
     "output_type": "execute_result"
    }
   ],
   "source": [
    "small_matrix = result[0]\n",
    "small_matrix"
   ]
  },
  {
   "cell_type": "code",
   "execution_count": 29,
   "metadata": {},
   "outputs": [
    {
     "data": {
      "text/plain": [
       "4356"
      ]
     },
     "execution_count": 29,
     "metadata": {},
     "output_type": "execute_result"
    }
   ],
   "source": [
    "small_matrix.nnz"
   ]
  },
  {
   "cell_type": "markdown",
   "metadata": {},
   "source": [
    "We can download a matrix locally using the `download` method:"
   ]
  },
  {
   "cell_type": "code",
   "execution_count": 36,
   "metadata": {},
   "outputs": [
    {
     "data": {
      "application/vnd.jupyter.widget-view+json": {
       "model_id": "1555e61386284f16b23309e5f757446e",
       "version_major": 2,
       "version_minor": 0
      },
      "text/plain": [
       "HBox(children=(FloatProgress(value=0.0, description='bcsstk02', max=13836.0, style=ProgressStyle(description_w…"
      ]
     },
     "metadata": {},
     "output_type": "display_data"
    },
    {
     "name": "stdout",
     "output_type": "stream",
     "text": [
      "\n"
     ]
    },
    {
     "data": {
      "text/plain": [
       "('C:\\\\Users\\\\drdar\\\\AppData\\\\Roaming\\\\ssget\\\\MM\\\\HB\\\\bcsstk02.tar.gz',\n",
       " 'C:\\\\Users\\\\drdar\\\\AppData\\\\Roaming\\\\ssget\\\\MM\\\\HB\\\\bcsstk02.tar.gz')"
      ]
     },
     "execution_count": 36,
     "metadata": {},
     "output_type": "execute_result"
    }
   ],
   "source": [
    "small_matrix.download()"
   ]
  },
  {
   "cell_type": "markdown",
   "metadata": {},
   "source": [
    "The `download` methods supports the following arguments:\n",
    "\n",
    "|Argument| Description | Data type | Default value | Notes|\n",
    "|--------|-------------|-----------|---------------|------|\n",
    "|`format`| Sparse matrix storage format | One of (`'MM', 'RB', 'MAT'`) | `MM` | `MM` is Matrix Market, `RB` is Rutherford-Boeing and `MAT` is MATLAB MAT-file format|\n",
    "|`destpath` | Path to download | `str` | `~/.ssgetpy` on Unix `%APPDATA%\\ssgetpy` on Windows | The full filename for the matrix is obtained via `os.path.join(destpath, format, group_name, matrix_name + extension)`where `extention` is `.tar.gz` for `MM` and `RB` and `.mat` for `MAT`|\n",
    "|`extract` | Extract TGZ archive? | `bool` | `False` | Only applicable to `MM` and `RB` formats |\n",
    "\n",
    "The return value is a two-element `tuple` containing the local path where the matrix was downloaded to along with the path for the extracted file, if applicable. \n",
    "\n",
    "Note that `download` does not actually download the file again if it already exists in the path. "
   ]
  },
  {
   "cell_type": "code",
   "execution_count": 38,
   "metadata": {},
   "outputs": [
    {
     "data": {
      "text/plain": [
       "('C:\\\\Users\\\\drdar\\\\AppData\\\\Roaming\\\\ssget\\\\MM\\\\HB\\\\bcsstk02.tar.gz',\n",
       " 'C:\\\\Users\\\\drdar\\\\AppData\\\\Roaming\\\\ssget\\\\MM\\\\HB\\\\bcsstk02.tar.gz')"
      ]
     },
     "execution_count": 38,
     "metadata": {},
     "output_type": "execute_result"
    }
   ],
   "source": [
    "small_matrix.download()"
   ]
  },
  {
   "cell_type": "code",
   "execution_count": 40,
   "metadata": {},
   "outputs": [
    {
     "data": {
      "text/plain": [
       "('C:\\\\Users\\\\drdar\\\\AppData\\\\Roaming\\\\ssget\\\\MM\\\\HB\\\\bcsstk02',\n",
       " 'C:\\\\Users\\\\drdar\\\\AppData\\\\Roaming\\\\ssget\\\\MM\\\\HB\\\\bcsstk02.tar.gz')"
      ]
     },
     "execution_count": 40,
     "metadata": {},
     "output_type": "execute_result"
    }
   ],
   "source": [
    "small_matrix.download(extract=True)"
   ]
  },
  {
   "cell_type": "markdown",
   "metadata": {},
   "source": [
    "Finally, `download` also works directly on the output of `search`, so you don't have to download one matrix at a time. For example, to download the first five matrices in the previous query, you could use:"
   ]
  },
  {
   "cell_type": "code",
   "execution_count": 43,
   "metadata": {},
   "outputs": [
    {
     "data": {
      "application/vnd.jupyter.widget-view+json": {
       "model_id": "76305fa1e45a4d1c94655976fd54b413",
       "version_major": 2,
       "version_minor": 0
      },
      "text/plain": [
       "HBox(children=(FloatProgress(value=0.0, description='Overall progress', max=5.0, style=ProgressStyle(descripti…"
      ]
     },
     "metadata": {},
     "output_type": "display_data"
    },
    {
     "data": {
      "application/vnd.jupyter.widget-view+json": {
       "model_id": "836892ce08074ead8dd08be1dc769266",
       "version_major": 2,
       "version_minor": 0
      },
      "text/plain": [
       "HBox(children=(FloatProgress(value=0.0, description='bcsstk02', max=13836.0, style=ProgressStyle(description_w…"
      ]
     },
     "metadata": {},
     "output_type": "display_data"
    },
    {
     "name": "stdout",
     "output_type": "stream",
     "text": [
      "\n"
     ]
    },
    {
     "data": {
      "application/vnd.jupyter.widget-view+json": {
       "model_id": "cd848b48ab4a4a02a5e7915d62a8ae05",
       "version_major": 2,
       "version_minor": 0
      },
      "text/plain": [
       "HBox(children=(FloatProgress(value=0.0, description='bcsstk04', max=10003.0, style=ProgressStyle(description_w…"
      ]
     },
     "metadata": {},
     "output_type": "display_data"
    },
    {
     "name": "stdout",
     "output_type": "stream",
     "text": [
      "\n"
     ]
    },
    {
     "data": {
      "application/vnd.jupyter.widget-view+json": {
       "model_id": "4d33dc3a3d354c7c98fb9a1564b7ab06",
       "version_major": 2,
       "version_minor": 0
      },
      "text/plain": [
       "HBox(children=(FloatProgress(value=0.0, description='bcsstk05', max=6848.0, style=ProgressStyle(description_wi…"
      ]
     },
     "metadata": {},
     "output_type": "display_data"
    },
    {
     "name": "stdout",
     "output_type": "stream",
     "text": [
      "\n"
     ]
    },
    {
     "data": {
      "application/vnd.jupyter.widget-view+json": {
       "model_id": "ee20a0079d074b229db99d69e3d35261",
       "version_major": 2,
       "version_minor": 0
      },
      "text/plain": [
       "HBox(children=(FloatProgress(value=0.0, description='bcsstk06', max=26662.0, style=ProgressStyle(description_w…"
      ]
     },
     "metadata": {},
     "output_type": "display_data"
    },
    {
     "name": "stdout",
     "output_type": "stream",
     "text": [
      "\n"
     ]
    },
    {
     "data": {
      "application/vnd.jupyter.widget-view+json": {
       "model_id": "9a8607c0398146a8a024f60c2aadd8fe",
       "version_major": 2,
       "version_minor": 0
      },
      "text/plain": [
       "HBox(children=(FloatProgress(value=0.0, description='bcsstk07', max=26699.0, style=ProgressStyle(description_w…"
      ]
     },
     "metadata": {},
     "output_type": "display_data"
    },
    {
     "name": "stdout",
     "output_type": "stream",
     "text": [
      "\n",
      "\n"
     ]
    }
   ],
   "source": [
    "result[:5].download()"
   ]
  },
  {
   "cell_type": "code",
   "execution_count": null,
   "metadata": {},
   "outputs": [],
   "source": []
  }
 ],
 "metadata": {
  "kernelspec": {
   "display_name": "Python 3",
   "language": "python",
   "name": "python3"
  },
  "language_info": {
   "codemirror_mode": {
    "name": "ipython",
    "version": 3
   },
   "file_extension": ".py",
   "mimetype": "text/x-python",
   "name": "python",
   "nbconvert_exporter": "python",
   "pygments_lexer": "ipython3",
   "version": "3.7.6"
  }
 },
 "nbformat": 4,
 "nbformat_minor": 4
}
